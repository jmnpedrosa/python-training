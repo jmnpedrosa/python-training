{
 "metadata": {
  "language_info": {
   "codemirror_mode": {
    "name": "ipython",
    "version": 3
   },
   "file_extension": ".py",
   "mimetype": "text/x-python",
   "name": "python",
   "nbconvert_exporter": "python",
   "pygments_lexer": "ipython3",
   "version": 3
  },
  "orig_nbformat": 2,
  "kernelspec": {
   "name": "python_defaultSpec_1596403534782",
   "display_name": "Python 3.8.5 32-bit"
  }
 },
 "nbformat": 4,
 "nbformat_minor": 2,
 "cells": [
  {
   "cell_type": "markdown",
   "metadata": {},
   "source": [
    "# Milestone Project 1\n",
    "\n",
    "Solution for the [Milestone  Project 1](https%3A%2F%2Fgithub.com%2FPierian-Data%2FComplete-Python-3-Bootcamp%2Fblob%2Fmaster%2F04-Milestone%20Project%20-%201%2F01-Milestone%20Project%201%20-%20Assignment.ipynb), a game of _Tic-Tac-Toe_."
   ]
  },
  {
   "cell_type": "code",
   "execution_count": 1,
   "metadata": {},
   "outputs": [],
   "source": [
    "from IPython.display import clear_output\n",
    "\n",
    "board = [' ',' ',' ',' ',' ',' ',' ',' ',' ']\n",
    "key_bindings = ['q','w','e','a','s','d','z','x','c']\n",
    "\n",
    "player1 = ' '\n",
    "player2 = ' '\n",
    "\n",
    "current_player = player1\n",
    "\n",
    "def display_board(board):\n",
    "    print()\n",
    "    print(board[0] + ' | ' + board[1] + ' | ' + board[2])\n",
    "    print('---------')\n",
    "    print(board[3] + ' | ' + board[4] + ' | ' + board[5])\n",
    "    print('---------')\n",
    "    print(board[6] + ' | ' + board[7] + ' | ' + board[8])\n",
    "    print()\n",
    "\n",
    "def display_instructions():\n",
    "    print(\"Welcome to Tic-Tac-Toe!\")\n",
    "    print(\"Two players ('X' and 'O') take turns to be the first to perform a full line of 3 (horizontally, vertically or diagonally).\")\n",
    "    print(\"Use the keyboard keys to pick the location of the marks, as follows:\")\n",
    "    display_board(key_bindings)\n",
    "    print(\"Good luck and have fun!\")\n",
    "    print()\n",
    "\n",
    "def choose_player():\n",
    "    player1 = ' '\n",
    "    player2 = ' '\n",
    "    while player1 not in ['X','O']:\n",
    "        player1 = input(\"Player 1: please pick a marker 'X' or 'O'.\").upper()\n",
    "        if player1 == 'X':\n",
    "            player2 = 'O'\n",
    "        elif player1 == 'O':\n",
    "            player2 = 'X'\n",
    "        else:\n",
    "            print(\"Invalid input. Please pick 'X' or 'O'.\")\n",
    "    print(f\"Player 1 will be '{player1}'.\")\n",
    "    print(f\"Player 2 will be '{player2}'.\")\n",
    "    return (player1, player2)\n"
   ]
  },
  {
   "cell_type": "code",
   "execution_count": 2,
   "metadata": {
    "tags": []
   },
   "outputs": [
    {
     "output_type": "stream",
     "name": "stdout",
     "text": "Welcome to Tic-Tac-Toe!\nTwo players ('X' and 'O') take turns to be the first to perform a full line of 3 (horizontally, vertically or diagonally).\nUse the keyboard keys to pick the location of the marks, as follows:\n\nq | w | e\n---------\na | s | d\n---------\nz | x | c\n\nGood luck and have fun!\n\nPlayer 1 will be 'X'.\nPlayer 2 will be 'O'.\n"
    }
   ],
   "source": [
    "\n",
    "display_instructions()\n",
    "player1, player2 = choose_player()\n"
   ]
  },
  {
   "cell_type": "code",
   "execution_count": null,
   "metadata": {},
   "outputs": [],
   "source": []
  }
 ]
}